{
 "cells": [
  {
   "cell_type": "code",
   "execution_count": 2,
   "metadata": {},
   "outputs": [],
   "source": [
    "import requests\n",
    "import sys\n",
    "import os\n",
    "import uuid\n",
    "from datetime import datetime\n",
    "import json\n",
    "import ast\n",
    "import time\n",
    "import re\n",
    "\n",
    "import dotenv\n",
    "import seaborn as sns\n",
    "import matplotlib.pyplot as plt\n",
    "from flask import Response\n",
    "import pandas as pd\n",
    "import numpy as np\n",
    "from tqdm import tqdm\n",
    "\n",
    "from config import settings\n",
    "\n",
    "pd.options.mode.chained_assignment = None\n",
    "\n"
   ]
  },
  {
   "cell_type": "code",
   "execution_count": 3,
   "metadata": {},
   "outputs": [],
   "source": [
    "version = \"ct-fema-ocfo-gpt-multidoc\"\n",
    "\n",
    "def set_version_configurations(version):\n",
    "    env_file = dotenv.find_dotenv()\n",
    "    dotenv.load_dotenv(env_file)\n",
    "    dotenv.set_key(env_file, \"VERSION_ID\", version)\n",
    "\n",
    "    settings.VERSION_ID = version\n",
    "    settings.get_version_configs()\n",
    "\n",
    "    # Overwrite system settings with experiment-specific configs\n",
    "    settings.SHOULD_STREAM = False\n",
    "    settings.AZURE_OPENAI_MODEL = \"dep-gpt-35-16k\"\n",
    "    settings.AZURE_OPENAI_MODEL_NAME = \"gpt-35-turbo-16k\"\n",
    "    os.environ[\"AZURE_OPENAI_API_KEY\"] = settings.AZURE_OPENAI_KEY\n",
    "\n",
    "    with open(\"config.json\", \"w\") as f:\n",
    "        json.dump([settings.PREP_CONFIG], f)\n",
    "\n",
    "set_version_configurations(version)"
   ]
  },
  {
   "attachments": {},
   "cell_type": "markdown",
   "metadata": {},
   "source": [
    "## Helper Functions\n",
    "Some retrieval utility functions are updated from application code to support retrieval of different doc_types"
   ]
  },
  {
   "cell_type": "code",
   "execution_count": null,
   "metadata": {},
   "outputs": [],
   "source": [
    "def format_as_ndjson(obj: dict) -> str:\n",
    "    return json.dumps(obj, ensure_ascii=False) + \"\\n\"\n",
    "\n"
   ]
  }
 ],
 "metadata": {
  "kernelspec": {
   "display_name": "fema",
   "language": "python",
   "name": "python3"
  },
  "language_info": {
   "codemirror_mode": {
    "name": "ipython",
    "version": 3
   },
   "file_extension": ".py",
   "mimetype": "text/x-python",
   "name": "python",
   "nbconvert_exporter": "python",
   "pygments_lexer": "ipython3",
   "version": "3.10.13"
  },
  "orig_nbformat": 4
 },
 "nbformat": 4,
 "nbformat_minor": 2
}
